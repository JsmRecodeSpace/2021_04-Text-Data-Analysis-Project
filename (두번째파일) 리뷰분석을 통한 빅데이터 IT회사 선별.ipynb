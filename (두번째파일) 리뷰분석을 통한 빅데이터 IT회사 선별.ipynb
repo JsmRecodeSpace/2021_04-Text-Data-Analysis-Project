{
 "cells": [
  {
   "cell_type": "markdown",
   "metadata": {},
   "source": [
    "# PART6. 감성분석\n",
    " - Part6에서는 `기업에 대한 한줄평을 이용해 문장의 감성(sentiment)을 예측`해보도록 한다.  \n",
    "\n",
    "\n",
    " - 감성분석의 세부적인 파라미터는 다음의 비교를 걸쳐서 결정하였다.\n",
    "   - 함수로 단어 추출: NV vs V vs N\n",
    "   - 토크나이져: CountVectorizer vs TfidTransformer\n",
    "   - max_features 500, 1000, 1500, 2000\n",
    " - 최종 모델 선택: extract_keywords(N), TfidTransformer, max_features = 2000\n",
    "   - 긍부정 단어 나오는 것이 제일 WordCloud에 나오는 것들과 비슷하였고 다른 선택지보다 단어선택이 맘에 들어 채택\n",
    "   - 받아들이는 단어가 많을수록 긍부정 가중치의 최소값은 더 낮아지고 최대값은 더 커지는 것을 볼 수 있었음.\n",
    "     단어가 많아지면서 해당 단어의 긍정 혹은 부정에 가중치를 더 주었기 때문이라고 생각됨.\n",
    "   - 모델별 ROC, ACC는 1000 이후로 모두 비슷하였기에 큰 차이가 없었음.\n",
    "  "
   ]
  },
  {
   "cell_type": "markdown",
   "metadata": {},
   "source": [
    "#### (extract_keywords(명사만)  + TfidTransfomer ) + max_features 2000"
   ]
  },
  {
   "cell_type": "code",
   "execution_count": 27,
   "metadata": {},
   "outputs": [
    {
     "data": {
      "text/plain": [
       "0"
      ]
     },
     "execution_count": 27,
     "metadata": {},
     "output_type": "execute_result"
    }
   ],
   "source": [
    "kiwi = Kiwi()\n",
    "kiwi.prepare()"
   ]
  },
  {
   "cell_type": "code",
   "execution_count": 28,
   "metadata": {},
   "outputs": [],
   "source": [
    "def extract_keywords(text):\n",
    "    result = kiwi.analyze(text)\n",
    "    for token, pos, start, end in result[0][0]:\n",
    "        if pos[0] in 'N':\n",
    "            yield f'{token}'"
   ]
  },
  {
   "cell_type": "code",
   "execution_count": 29,
   "metadata": {},
   "outputs": [
    {
     "name": "stdout",
     "output_type": "stream",
     "text": [
      "(42641, 2000)\n"
     ]
    }
   ],
   "source": [
    "cv = CountVectorizer(max_features=2000, tokenizer=extract_keywords)\n",
    "\n",
    "df['company_review'] = df['company_review'].fillna('.')\n",
    "\n",
    "oneSentenceView_dtm = cv.fit_transform(df.loc[:, 'company_review'])\n",
    "\n",
    "trans = TfidfTransformer()\n",
    "oneSentenceView_dtm2 = trans.fit_transform(oneSentenceView_dtm)\n",
    "print(oneSentenceView_dtm2.shape)\n",
    "\n",
    "# 단어 목록\n",
    "words = cv.get_feature_names()"
   ]
  },
  {
   "cell_type": "markdown",
   "metadata": {},
   "source": [
    "#### 로지스틱 회귀분석으로 감성분석"
   ]
  },
  {
   "cell_type": "code",
   "execution_count": 30,
   "metadata": {},
   "outputs": [],
   "source": [
    "# 데이터 분할\n",
    "x = oneSentenceView_dtm2\n",
    "y = df.sentiment_label.values\n",
    "x_train, x_valid, y_train, y_valid = train_test_split(x, y, test_size=0.2, random_state=42)\n",
    "\n",
    "# 모형 정의\n",
    "model = tf.keras.models.Sequential()\n",
    "model.add(tf.keras.layers.Dense(1, activation='sigmoid')) \n",
    "\n",
    "# 파라미터 설정\n",
    "model.compile(optimizer='adam', loss='binary_crossentropy', metrics=['AUC', 'accuracy'])"
   ]
  },
  {
   "cell_type": "code",
   "execution_count": 31,
   "metadata": {
    "scrolled": false
   },
   "outputs": [
    {
     "name": "stdout",
     "output_type": "stream",
     "text": [
      "Train on 34112 samples\n",
      "Epoch 1/20\n",
      "34112/34112 [==============================] - 2s 54us/sample - loss: 0.6708 - AUC: 0.6571 - accuracy: 0.5861\n",
      "Epoch 2/20\n",
      "34112/34112 [==============================] - 1s 35us/sample - loss: 0.6417 - AUC: 0.7363 - accuracy: 0.6436\n",
      "Epoch 3/20\n",
      "34112/34112 [==============================] - 1s 33us/sample - loss: 0.6233 - AUC: 0.7451 - accuracy: 0.6695\n",
      "Epoch 4/20\n",
      "34112/34112 [==============================] - 1s 33us/sample - loss: 0.6106 - AUC: 0.7510 - accuracy: 0.6779\n",
      "Epoch 5/20\n",
      "34112/34112 [==============================] - 1s 33us/sample - loss: 0.6014 - AUC: 0.7551 - accuracy: 0.6854\n",
      "Epoch 6/20\n",
      "34112/34112 [==============================] - 1s 34us/sample - loss: 0.5945 - AUC: 0.7587 - accuracy: 0.6886\n",
      "Epoch 7/20\n",
      "34112/34112 [==============================] - 1s 33us/sample - loss: 0.5891 - AUC: 0.7613 - accuracy: 0.6916\n",
      "Epoch 8/20\n",
      "34112/34112 [==============================] - 1s 33us/sample - loss: 0.5847 - AUC: 0.7638 - accuracy: 0.6931\n",
      "Epoch 9/20\n",
      "34112/34112 [==============================] - 1s 34us/sample - loss: 0.5811 - AUC: 0.7658 - accuracy: 0.6959\n",
      "Epoch 10/20\n",
      "34112/34112 [==============================] - 1s 34us/sample - loss: 0.5780 - AUC: 0.7678 - accuracy: 0.6975\n",
      "Epoch 11/20\n",
      "34112/34112 [==============================] - 1s 33us/sample - loss: 0.5754 - AUC: 0.7694 - accuracy: 0.6991\n",
      "Epoch 12/20\n",
      "34112/34112 [==============================] - 1s 33us/sample - loss: 0.5732 - AUC: 0.7708 - accuracy: 0.6990\n",
      "Epoch 13/20\n",
      "34112/34112 [==============================] - 1s 34us/sample - loss: 0.5712 - AUC: 0.7721 - accuracy: 0.7014\n",
      "Epoch 14/20\n",
      "34112/34112 [==============================] - 1s 34us/sample - loss: 0.5695 - AUC: 0.7731 - accuracy: 0.7027\n",
      "Epoch 15/20\n",
      "34112/34112 [==============================] - 1s 34us/sample - loss: 0.5679 - AUC: 0.7742 - accuracy: 0.7033\n",
      "Epoch 16/20\n",
      "34112/34112 [==============================] - 1s 33us/sample - loss: 0.5665 - AUC: 0.7750 - accuracy: 0.7033\n",
      "Epoch 17/20\n",
      "34112/34112 [==============================] - 1s 34us/sample - loss: 0.5652 - AUC: 0.7761 - accuracy: 0.7040\n",
      "Epoch 18/20\n",
      "34112/34112 [==============================] - 1s 33us/sample - loss: 0.5641 - AUC: 0.7766 - accuracy: 0.7051\n",
      "Epoch 19/20\n",
      "34112/34112 [==============================] - 1s 33us/sample - loss: 0.5631 - AUC: 0.7773 - accuracy: 0.7058\n",
      "Epoch 20/20\n",
      "34112/34112 [==============================] - 1s 33us/sample - loss: 0.5622 - AUC: 0.7779 - accuracy: 0.7060\n"
     ]
    },
    {
     "data": {
      "text/plain": [
       "<tensorflow.python.keras.callbacks.History at 0x1a1e0298f48>"
      ]
     },
     "execution_count": 31,
     "metadata": {},
     "output_type": "execute_result"
    }
   ],
   "source": [
    "# 훈련\n",
    "model.fit(x_train.A, y_train, epochs=20)"
   ]
  },
  {
   "cell_type": "code",
   "execution_count": null,
   "metadata": {},
   "outputs": [],
   "source": [
    "# 테스트\n",
    "model.evaluate(x_valid.A, y_valid)"
   ]
  },
  {
   "cell_type": "code",
   "execution_count": null,
   "metadata": {},
   "outputs": [],
   "source": [
    "# 결과\n",
    "0s 36us/sample - loss: 0.6530 - AUC: 0.7457 - accuracy: 0.6826\n",
    "[0.5877039650635726, 0.7456566, 0.68261224]"
   ]
  },
  {
   "cell_type": "code",
   "execution_count": 33,
   "metadata": {},
   "outputs": [],
   "source": [
    "# 파라미터\n",
    "w, b = model.weights\n",
    "\n",
    "#### 단어별 가중치 표\n",
    "word_sent = pd.DataFrame({\n",
    "    '토큰': words,\n",
    "    '가중치': w.numpy().flat\n",
    "})"
   ]
  },
  {
   "cell_type": "markdown",
   "metadata": {},
   "source": [
    "#### 부정단어"
   ]
  },
  {
   "cell_type": "code",
   "execution_count": 34,
   "metadata": {
    "scrolled": false
   },
   "outputs": [
    {
     "data": {
      "text/html": [
       "<div>\n",
       "<style scoped>\n",
       "    .dataframe tbody tr th:only-of-type {\n",
       "        vertical-align: middle;\n",
       "    }\n",
       "\n",
       "    .dataframe tbody tr th {\n",
       "        vertical-align: top;\n",
       "    }\n",
       "\n",
       "    .dataframe thead th {\n",
       "        text-align: right;\n",
       "    }\n",
       "</style>\n",
       "<table border=\"1\" class=\"dataframe\">\n",
       "  <thead>\n",
       "    <tr style=\"text-align: right;\">\n",
       "      <th></th>\n",
       "      <th>토큰</th>\n",
       "      <th>가중치</th>\n",
       "    </tr>\n",
       "  </thead>\n",
       "  <tbody>\n",
       "    <tr>\n",
       "      <th>1640</th>\n",
       "      <td>최악</td>\n",
       "      <td>-3.582250</td>\n",
       "    </tr>\n",
       "    <tr>\n",
       "      <th>875</th>\n",
       "      <td>소모품</td>\n",
       "      <td>-3.173774</td>\n",
       "    </tr>\n",
       "    <tr>\n",
       "      <th>1728</th>\n",
       "      <td>탈출</td>\n",
       "      <td>-2.996080</td>\n",
       "    </tr>\n",
       "    <tr>\n",
       "      <th>1681</th>\n",
       "      <td>침몰</td>\n",
       "      <td>-2.740609</td>\n",
       "    </tr>\n",
       "    <tr>\n",
       "      <th>79</th>\n",
       "      <td>겉</td>\n",
       "      <td>-2.644006</td>\n",
       "    </tr>\n",
       "    <tr>\n",
       "      <th>1409</th>\n",
       "      <td>전형</td>\n",
       "      <td>-2.575520</td>\n",
       "    </tr>\n",
       "    <tr>\n",
       "      <th>1098</th>\n",
       "      <td>연명</td>\n",
       "      <td>-2.425322</td>\n",
       "    </tr>\n",
       "    <tr>\n",
       "      <th>1490</th>\n",
       "      <td>주먹구구</td>\n",
       "      <td>-2.394727</td>\n",
       "    </tr>\n",
       "    <tr>\n",
       "      <th>1768</th>\n",
       "      <td>특근</td>\n",
       "      <td>-2.385329</td>\n",
       "    </tr>\n",
       "    <tr>\n",
       "      <th>1396</th>\n",
       "      <td>전무</td>\n",
       "      <td>-2.352734</td>\n",
       "    </tr>\n",
       "    <tr>\n",
       "      <th>714</th>\n",
       "      <td>부재</td>\n",
       "      <td>-2.337781</td>\n",
       "    </tr>\n",
       "    <tr>\n",
       "      <th>1437</th>\n",
       "      <td>정작</td>\n",
       "      <td>-2.329244</td>\n",
       "    </tr>\n",
       "    <tr>\n",
       "      <th>1919</th>\n",
       "      <td>허울</td>\n",
       "      <td>-2.186351</td>\n",
       "    </tr>\n",
       "    <tr>\n",
       "      <th>1447</th>\n",
       "      <td>제로</td>\n",
       "      <td>-2.165140</td>\n",
       "    </tr>\n",
       "    <tr>\n",
       "      <th>1876</th>\n",
       "      <td>하위</td>\n",
       "      <td>-2.157657</td>\n",
       "    </tr>\n",
       "  </tbody>\n",
       "</table>\n",
       "</div>"
      ],
      "text/plain": [
       "        토큰       가중치\n",
       "1640    최악 -3.582250\n",
       "875    소모품 -3.173774\n",
       "1728    탈출 -2.996080\n",
       "1681    침몰 -2.740609\n",
       "79       겉 -2.644006\n",
       "1409    전형 -2.575520\n",
       "1098    연명 -2.425322\n",
       "1490  주먹구구 -2.394727\n",
       "1768    특근 -2.385329\n",
       "1396    전무 -2.352734\n",
       "714     부재 -2.337781\n",
       "1437    정작 -2.329244\n",
       "1919    허울 -2.186351\n",
       "1447    제로 -2.165140\n",
       "1876    하위 -2.157657"
      ]
     },
     "execution_count": 34,
     "metadata": {},
     "output_type": "execute_result"
    }
   ],
   "source": [
    "word_sent.sort_values('가중치').head(15)"
   ]
  },
  {
   "cell_type": "markdown",
   "metadata": {},
   "source": [
    "#### 긍정단어"
   ]
  },
  {
   "cell_type": "code",
   "execution_count": 35,
   "metadata": {
    "scrolled": false
   },
   "outputs": [
    {
     "data": {
      "text/html": [
       "<div>\n",
       "<style scoped>\n",
       "    .dataframe tbody tr th:only-of-type {\n",
       "        vertical-align: middle;\n",
       "    }\n",
       "\n",
       "    .dataframe tbody tr th {\n",
       "        vertical-align: top;\n",
       "    }\n",
       "\n",
       "    .dataframe thead th {\n",
       "        text-align: right;\n",
       "    }\n",
       "</style>\n",
       "<table border=\"1\" class=\"dataframe\">\n",
       "  <thead>\n",
       "    <tr style=\"text-align: right;\">\n",
       "      <th></th>\n",
       "      <th>토큰</th>\n",
       "      <th>가중치</th>\n",
       "    </tr>\n",
       "  </thead>\n",
       "  <tbody>\n",
       "    <tr>\n",
       "      <th>1745</th>\n",
       "      <td>토론</td>\n",
       "      <td>1.637803</td>\n",
       "    </tr>\n",
       "    <tr>\n",
       "      <th>1417</th>\n",
       "      <td>젊음</td>\n",
       "      <td>1.646441</td>\n",
       "    </tr>\n",
       "    <tr>\n",
       "      <th>1480</th>\n",
       "      <td>종합</td>\n",
       "      <td>1.650322</td>\n",
       "    </tr>\n",
       "    <tr>\n",
       "      <th>842</th>\n",
       "      <td>선진</td>\n",
       "      <td>1.697370</td>\n",
       "    </tr>\n",
       "    <tr>\n",
       "      <th>705</th>\n",
       "      <td>부바부</td>\n",
       "      <td>1.705199</td>\n",
       "    </tr>\n",
       "    <tr>\n",
       "      <th>1264</th>\n",
       "      <td>이커머스</td>\n",
       "      <td>1.757499</td>\n",
       "    </tr>\n",
       "    <tr>\n",
       "      <th>649</th>\n",
       "      <td>밸런스</td>\n",
       "      <td>1.801054</td>\n",
       "    </tr>\n",
       "    <tr>\n",
       "      <th>1520</th>\n",
       "      <td>즐거움</td>\n",
       "      <td>1.898116</td>\n",
       "    </tr>\n",
       "    <tr>\n",
       "      <th>692</th>\n",
       "      <td>복지</td>\n",
       "      <td>1.901133</td>\n",
       "    </tr>\n",
       "    <tr>\n",
       "      <th>909</th>\n",
       "      <td>수평</td>\n",
       "      <td>1.966176</td>\n",
       "    </tr>\n",
       "    <tr>\n",
       "      <th>192</th>\n",
       "      <td>국내</td>\n",
       "      <td>2.017413</td>\n",
       "    </tr>\n",
       "    <tr>\n",
       "      <th>1339</th>\n",
       "      <td>자율</td>\n",
       "      <td>2.109087</td>\n",
       "    </tr>\n",
       "    <tr>\n",
       "      <th>1474</th>\n",
       "      <td>존중</td>\n",
       "      <td>2.406312</td>\n",
       "    </tr>\n",
       "    <tr>\n",
       "      <th>1631</th>\n",
       "      <td>최고</td>\n",
       "      <td>2.525124</td>\n",
       "    </tr>\n",
       "    <tr>\n",
       "      <th>518</th>\n",
       "      <td>만족</td>\n",
       "      <td>2.772799</td>\n",
       "    </tr>\n",
       "  </tbody>\n",
       "</table>\n",
       "</div>"
      ],
      "text/plain": [
       "        토큰       가중치\n",
       "1745    토론  1.637803\n",
       "1417    젊음  1.646441\n",
       "1480    종합  1.650322\n",
       "842     선진  1.697370\n",
       "705    부바부  1.705199\n",
       "1264  이커머스  1.757499\n",
       "649    밸런스  1.801054\n",
       "1520   즐거움  1.898116\n",
       "692     복지  1.901133\n",
       "909     수평  1.966176\n",
       "192     국내  2.017413\n",
       "1339    자율  2.109087\n",
       "1474    존중  2.406312\n",
       "1631    최고  2.525124\n",
       "518     만족  2.772799"
      ]
     },
     "execution_count": 35,
     "metadata": {},
     "output_type": "execute_result"
    }
   ],
   "source": [
    "word_sent.sort_values('가중치').tail(15)"
   ]
  },
  {
   "cell_type": "markdown",
   "metadata": {},
   "source": [
    "#### 감성분석(part6)를 통해서 기업선별\n",
    "    - 기업 한줄평에 대한 감성분석을 통해서 나온 토큰들의 데이터에서 긍정에 해당하는 상위 100개의 토큰이  \n",
    "      기업별 한줄평에 몇개가 나왔는지 세서 전체 평균보다 높은 기업들 선별"
   ]
  },
  {
   "cell_type": "code",
   "execution_count": 36,
   "metadata": {},
   "outputs": [
    {
     "name": "stdout",
     "output_type": "stream",
     "text": [
      "감성분석 결과 선별된 기업수 :  132\n"
     ]
    }
   ],
   "source": [
    "# 감성분석을 통해 나온 word_sent에서 긍정에 해당하는 상위 100개의 토큰을 선택\n",
    "positive_tokens = word_sent.sort_values('가중치', ascending=False)[:100]['토큰'].tolist()\n",
    "\n",
    "# 100개의 토큰들이 기업별로 기업 한줄평에 몇개가 들어가 있는지를 positive_tokens_count에 저장 \n",
    "df['positive_tokens_count'] = np.zeros(df.shape[0]).astype(int)\n",
    "for token in positive_tokens:\n",
    "    for i in range(len(df)):\n",
    "        if token in df['company_review'][i]:\n",
    "            df['positive_tokens_count'][i] += 1\n",
    "# 100개의 토큰들이 기업 전체의 한줄평에 몇개가 들어가 있는지 평균\n",
    "positive_tokens_mean = df.groupby('company_name')['positive_tokens_count'].mean().mean()\n",
    "\n",
    "# positive_tokens_count가 전체 평균보다 높은 기업들 추출\n",
    "part6_sentimentAnalysis_tokens_companies = df.groupby('company_name').mean().sort_values('positive_tokens_count', ascending=False) \\\n",
    ".query('positive_tokens_count > @positive_tokens_mean').index.tolist()\n",
    "\n",
    "print('감성분석 결과 선별된 기업수 : ', len(part6_sentimentAnalysis_tokens_companies))"
   ]
  },
  {
   "cell_type": "markdown",
   "metadata": {},
   "source": [
    "# PART7. 주제분석\n",
    "\n",
    " - 기업 리뷰데이터에서 기업에 대한 한줄평 칼럼인 `company_review`을 이용하여 주제분석을 하여보았다.\n",
    " \n",
    " \n",
    " - `빅데이터` 단어를 목표로 주제를 찾았고 그 주제와 관련된 단어목록을 뽑아내는 것을 목표로 하였다.\n",
    " \n",
    " \n",
    " -  LSA, NMF, LDA를 모두 해보고 결과인 단어목록을 비교한 결과  \n",
    "    생각한 바와는 다르게 LSA에서 회전도 하지 않고 병렬분석만 적용한 결과가 제일 나았다.  \n",
    "    결과 비교로는 단어목록이 `빅데이터`란 단어와의 연관성, 맥락, 단어의 분위기를 살펴보았다. \n",
    "    \n",
    "    \n",
    " - 주제분석을 잠재의미분석(LSA)로 진행하기로 결정하고 세부적인 파라미터는 다음의 비교를 걸쳐서 결정하였다.  \n",
    "   - CountVectorizer vs TfidVectorizer  \n",
    "   - max_features: 1500, 2000, 2500, 3000, 3500, 4000  \n",
    "   - n_components: 27(병렬분석결과)  \n",
    "  - 최종 선택된 파라미터: TfidVectorizer, max_features=2000, n_components=27"
   ]
  },
  {
   "cell_type": "markdown",
   "metadata": {},
   "source": [
    "## LSA 잠재의미분석"
   ]
  },
  {
   "cell_type": "markdown",
   "metadata": {},
   "source": [
    "- 전처리"
   ]
  },
  {
   "cell_type": "code",
   "execution_count": 37,
   "metadata": {},
   "outputs": [],
   "source": [
    "# TfidVectorizer 사용\n",
    "cv = TfidfVectorizer(max_features=2000)\n",
    "# 기업 한줄평 리뷰의 단어목록을 x라는 변수에 넣어 줌\n",
    "x = cv.fit_transform(df['company_review'])\n",
    "# 단어 이름\n",
    "words = cv.get_feature_names() "
   ]
  },
  {
   "cell_type": "markdown",
   "metadata": {},
   "source": [
    " - SVD를 이용한 잠재의미분석 LSA\n"
   ]
  },
  {
   "cell_type": "code",
   "execution_count": 38,
   "metadata": {},
   "outputs": [
    {
     "data": {
      "text/plain": [
       "TruncatedSVD(n_components=27, random_state=42)"
      ]
     },
     "execution_count": 38,
     "metadata": {},
     "output_type": "execute_result"
    }
   ],
   "source": [
    "svd = TruncatedSVD(n_components=27, random_state=42)\n",
    "svd.fit(x)"
   ]
  },
  {
   "cell_type": "code",
   "execution_count": 39,
   "metadata": {},
   "outputs": [
    {
     "data": {
      "text/plain": [
       "892"
      ]
     },
     "execution_count": 39,
     "metadata": {},
     "output_type": "execute_result"
    }
   ],
   "source": [
    "# 빅데이터란 단어가 어떤 차원이랑 관계가 깊은지 보겠음\n",
    "word_idx = words.index('빅데이터')\n",
    "word_idx"
   ]
  },
  {
   "cell_type": "code",
   "execution_count": 40,
   "metadata": {},
   "outputs": [
    {
     "data": {
      "image/png": "[encoded data removed]",
      "text/plain": [
       "<Figure size 432x288 with 1 Axes>"
      ]
     },
     "metadata": {
      "needs_background": "light"
     },
     "output_type": "display_data"
    }
   ],
   "source": [
    "# 주제별로 관련도가 높은지 낮은지를 볼 수 있음.\n",
    "plt.plot(svd.components_[:, word_idx])\n",
    "plt.show()"
   ]
  },
  {
   "cell_type": "code",
   "execution_count": 41,
   "metadata": {},
   "outputs": [
    {
     "data": {
      "text/plain": [
       "1"
      ]
     },
     "execution_count": 41,
     "metadata": {},
     "output_type": "execute_result"
    }
   ],
   "source": [
    "# 가장 큰 관계를 가지는 주제를 구한다\n",
    "topic_idx = svd.components_[:, word_idx].argmax()\n",
    "topic_idx"
   ]
  },
  {
   "cell_type": "markdown",
   "metadata": {},
   "source": [
    "- LSA를 병렬분석 이후 topic과 강한 관계를 가지는 단어들"
   ]
  },
  {
   "cell_type": "code",
   "execution_count": 42,
   "metadata": {
    "scrolled": false
   },
   "outputs": [
    {
     "data": {
      "text/html": [
       "<div>\n",
       "<style scoped>\n",
       "    .dataframe tbody tr th:only-of-type {\n",
       "        vertical-align: middle;\n",
       "    }\n",
       "\n",
       "    .dataframe tbody tr th {\n",
       "        vertical-align: top;\n",
       "    }\n",
       "\n",
       "    .dataframe thead th {\n",
       "        text-align: right;\n",
       "    }\n",
       "</style>\n",
       "<table border=\"1\" class=\"dataframe\">\n",
       "  <thead>\n",
       "    <tr style=\"text-align: right;\">\n",
       "      <th></th>\n",
       "      <th>word</th>\n",
       "      <th>loading</th>\n",
       "    </tr>\n",
       "  </thead>\n",
       "  <tbody>\n",
       "    <tr>\n",
       "      <th>1473</th>\n",
       "      <td>있는</td>\n",
       "      <td>0.453799</td>\n",
       "    </tr>\n",
       "    <tr>\n",
       "      <th>315</th>\n",
       "      <td>기업</td>\n",
       "      <td>0.314584</td>\n",
       "    </tr>\n",
       "    <tr>\n",
       "      <th>1640</th>\n",
       "      <td>좋은</td>\n",
       "      <td>0.272571</td>\n",
       "    </tr>\n",
       "    <tr>\n",
       "      <th>1503</th>\n",
       "      <td>있음</td>\n",
       "      <td>0.237042</td>\n",
       "    </tr>\n",
       "    <tr>\n",
       "      <th>479</th>\n",
       "      <td>다양한</td>\n",
       "      <td>0.231689</td>\n",
       "    </tr>\n",
       "    <tr>\n",
       "      <th>152</th>\n",
       "      <td>경험을</td>\n",
       "      <td>0.133921</td>\n",
       "    </tr>\n",
       "    <tr>\n",
       "      <th>1456</th>\n",
       "      <td>일할</td>\n",
       "      <td>0.128065</td>\n",
       "    </tr>\n",
       "    <tr>\n",
       "      <th>86</th>\n",
       "      <td>개발자가</td>\n",
       "      <td>0.125675</td>\n",
       "    </tr>\n",
       "    <tr>\n",
       "      <th>1480</th>\n",
       "      <td>있다</td>\n",
       "      <td>0.103320</td>\n",
       "    </tr>\n",
       "    <tr>\n",
       "      <th>638</th>\n",
       "      <td>많이</td>\n",
       "      <td>0.099514</td>\n",
       "    </tr>\n",
       "    <tr>\n",
       "      <th>631</th>\n",
       "      <td>많은</td>\n",
       "      <td>0.089811</td>\n",
       "    </tr>\n",
       "    <tr>\n",
       "      <th>760</th>\n",
       "      <td>배울</td>\n",
       "      <td>0.081169</td>\n",
       "    </tr>\n",
       "    <tr>\n",
       "      <th>1647</th>\n",
       "      <td>좋음</td>\n",
       "      <td>0.078707</td>\n",
       "    </tr>\n",
       "    <tr>\n",
       "      <th>1908</th>\n",
       "      <td>하지만</td>\n",
       "      <td>0.073758</td>\n",
       "    </tr>\n",
       "    <tr>\n",
       "      <th>1983</th>\n",
       "      <td>회사입니다</td>\n",
       "      <td>0.072847</td>\n",
       "    </tr>\n",
       "  </tbody>\n",
       "</table>\n",
       "</div>"
      ],
      "text/plain": [
       "       word   loading\n",
       "1473     있는  0.453799\n",
       "315      기업  0.314584\n",
       "1640     좋은  0.272571\n",
       "1503     있음  0.237042\n",
       "479     다양한  0.231689\n",
       "152     경험을  0.133921\n",
       "1456     일할  0.128065\n",
       "86     개발자가  0.125675\n",
       "1480     있다  0.103320\n",
       "638      많이  0.099514\n",
       "631      많은  0.089811\n",
       "760      배울  0.081169\n",
       "1647     좋음  0.078707\n",
       "1908    하지만  0.073758\n",
       "1983  회사입니다  0.072847"
      ]
     },
     "execution_count": 42,
     "metadata": {},
     "output_type": "execute_result"
    }
   ],
   "source": [
    "topic = pd.DataFrame({\n",
    "    'word': words,\n",
    "    'loading': svd.components_[topic_idx]\n",
    "})\n",
    "\n",
    "topic.sort_values('loading', ascending=False).head(15)"
   ]
  },
  {
   "cell_type": "markdown",
   "metadata": {},
   "source": [
    "#### 주제분석(part7)을 통해서 기업선별\n",
    "     - 기업 한줄평에 대한 주제분석을 통해서 `빅데이터`와 관련된 주제를 찾고, 해당 주제와 강한 관계를 가진 단어목록을 추출함.\n",
    "       그리고 `빅데이터`와 단어목록이 기업별 한줄평에 몇개가 나왔는지 세서 전체 평균보다 높은 기업들 선별"
   ]
  },
  {
   "cell_type": "code",
   "execution_count": 43,
   "metadata": {},
   "outputs": [
    {
     "name": "stdout",
     "output_type": "stream",
     "text": [
      "주제분석 결과 선별된 기업수:  81\n"
     ]
    }
   ],
   "source": [
    "topic_loading_mean = topic.loading.mean()\n",
    "topic_loading_436words = topic.query('loading > @topic_loading_mean').loading.mean()\n",
    "top99_topic_related_words= topic.query('loading > @topic_loading_436words').sort_values('loading', ascending=False).word.tolist()\n",
    "\n",
    "# 100개의 토큰들이 기업별로 기업 한줄평에 몇개가 들어가 있는지를 positive_tokens_count에 저장 \n",
    "df['topic_related_words_count'] = np.zeros(df.shape[0]).astype(int)\n",
    "for word in top99_topic_related_words:\n",
    "    for i in range(len(df)):\n",
    "        if word in df['company_review'][i]:\n",
    "            df['topic_related_words_count'][i] += 1\n",
    "        if '빅데이터' in df['company_review'][i]:  # 가중치를 준다\n",
    "            df['topic_related_words_count'][i] += 2\n",
    "            \n",
    "\n",
    "# 빅데이터를 포함한 100개의 단어들이 기업 전체의 한줄평에 몇개가 들어가 있는지 평균\n",
    "topic_related_words_mean = df.groupby('company_name')['topic_related_words_count'].mean().mean()\n",
    "\n",
    "# topic_related_words_count가 전체 평균보다 높은 기업들 추출\n",
    "part7_topicAnalysis_topic_companies = df.groupby('company_name').mean().sort_values('topic_related_words_count', ascending=False) \\\n",
    ".query('topic_related_words_count > @topic_related_words_mean').index.tolist()\n",
    "\n",
    "print('주제분석 결과 선별된 기업수: ', len(part7_topicAnalysis_topic_companies))"
   ]
  },
  {
   "cell_type": "markdown",
   "metadata": {},
   "source": [
    "# PART8.  최종 기업선별 및 결론\n",
    " - 앞서 했던 각각의 분석을 통해 선별한 회사들을 교집합한다.\n",
    "     - part4_Visualization_positive_companies     : 기업별 긍정의 비율이 50%가 넘는 회사들의 집합\n",
    "     - part5_WordCloud_positive_companies         : WordCloud에 나타난 장점단어들의 갯수가 전체 평균보다 높은 회사들의 집합\n",
    "     - part6_sentimentAnalysis_tokens_companies   : 감성분석을 통해 추출한 긍정토큰의 갯수가 전체 평균보다 높은 회사들의 집합\n",
    "     - part7_topicAnalysis_topic_companies        : 주제분석을 통해 빅데이터와 가장 관련있는 주제를 구하고 그 주제와 관계를 갖는 단어목록의 갯수가 전체 평균보다 높은 회사들의 집합\n",
    "     \n",
    "\n",
    "-  part4~part6을 통해서 긍정의 분위기가 반영된 기업들을 선별하였고,  \n",
    "   part7에서 주제분석을 통해 빅데이터와 관련된 기업들을 선별하였다.  \n",
    "\n",
    "\n",
    "-  이렇게 선별된 기업들을 교집합을 하여 목표인 빅데이터와 관련 있으면서 현장 업무 분위기 또한 좋은 기업들을 구해내는 것이다.  \n",
    "\n",
    "\n",
    "-  교집합한 결과 총 35개의 기업들이 선정되었다. "
   ]
  },
  {
   "cell_type": "markdown",
   "metadata": {},
   "source": [
    "#### 1. 각 파트(part4~part7)에서 분석결과로 나온 회사들의 목록 교집합"
   ]
  },
  {
   "cell_type": "code",
   "execution_count": 44,
   "metadata": {
    "scrolled": false
   },
   "outputs": [
    {
     "name": "stdout",
     "output_type": "stream",
     "text": [
      "각 분석을 통해 선별된 기업을 교집합한 결과 선별된 기업의 수: 35\n",
      "\n",
      "기업명 : \n",
      "1: (주)안랩\n",
      "2: 구글코리아(유)\n",
      "3: 엔테크서비스(주)\n",
      "4: 삼성에스디에스(주)\n",
      "5: (주)마이다스아이티\n",
      "6: 뱅크웨어글로벌(주)\n",
      "7: (주)파수\n",
      "8: 엔에이치엔(주)\n",
      "9: 쿠팡(주)\n",
      "10: 두산정보통신(주)\n",
      "11: SK텔레콤(주)\n",
      "12: 에스코어(주)\n",
      "13: 한국내쇼날인스트루먼트(주)\n",
      "14: (주)넥슨코리아\n",
      "15: 엔카닷컴(주)\n",
      "16: (주)비바리퍼블리카\n",
      "17: 알서포트(주)\n",
      "18: 네이버(주)\n",
      "19: (주)하이퍼커넥트\n",
      "20: (주)카카오\n",
      "21: 라인플러스(주)\n",
      "22: (주)엔씨소프트\n",
      "23: 비스텔(주)\n",
      "24: (주)바이브컴퍼니\n",
      "25: 에스케이플래닛(주)\n",
      "26: 스포카(주)\n",
      "27: (주)플립커뮤니케이션즈\n",
      "28: 가비아(주)\n",
      "29: 에스케이(주)\n",
      "30: (주)다우기술\n",
      "31: (주)연합뉴스\n",
      "32: 에릭슨엘지(주)\n",
      "33: 이베이코리아(주)\n",
      "34: (주)아이패밀리에스씨\n",
      "35: (주)엘지씨엔에스\n"
     ]
    }
   ],
   "source": [
    "intersected_companies = \\\n",
    "list(set(part4_Visualization_positive_companies) \\\n",
    ".intersection(part5_WordCloud_positive_companies) \\\n",
    ".intersection(part6_sentimentAnalysis_tokens_companies) \\\n",
    ".intersection(part7_topicAnalysis_topic_companies))\n",
    "\n",
    "\n",
    "print(f'각 분석을 통해 선별된 기업을 교집합한 결과 선별된 기업의 수: {len(intersected_companies)}\\n')\n",
    "print(f'기업명 : ')\n",
    "for i in range(len(intersected_companies)):\n",
    "    print(f'{i+1}: {list(intersected_companies)[i]}')"
   ]
  },
  {
   "cell_type": "markdown",
   "metadata": {},
   "source": [
    "#### 2. 텍스트 분석 결과 선별된 기업들에 대한 시각화"
   ]
  },
  {
   "cell_type": "code",
   "execution_count": 45,
   "metadata": {},
   "outputs": [],
   "source": [
    "df_intersected = df.query('company_name == @intersected_companies')"
   ]
  },
  {
   "cell_type": "code",
   "execution_count": 46,
   "metadata": {
    "scrolled": false
   },
   "outputs": [
    {
     "data": {
      "image/png": "[encoded data removed]",
      "text/plain": [
       "<Figure size 720x360 with 1 Axes>"
      ]
     },
     "metadata": {
      "needs_background": "light"
     },
     "output_type": "display_data"
    }
   ],
   "source": [
    "crosstab_count = pd.crosstab(df_intersected.company_name, df_intersected.sentiment_label, margins=True).sort_values('All', ascending=False)[1:].reset_index()\n",
    "crosstab_ratio= pd.crosstab(df_intersected.company_name, df_intersected.sentiment_label, margins=True, normalize='index')[:-1].reset_index()\n",
    "crosstab_intersected = pd.merge(crosstab_count, crosstab_ratio, on='company_name').set_index('company_name').loc[:,['0_y','1_y']].rename(columns={'0_y':'부정', '1_y':'긍정'})\n",
    "crosstab_intersected\n",
    "\n",
    "fig, axes = plt.subplots(1, 1, figsize=(10, 5))\n",
    "crosstab_intersected.plot.bar(stacked=True, colormap='Greens', ax=axes)\n",
    "plt.axhline(y=0.5, color='r', linewidth=4)\n",
    "plt.title('각 분석에서 선별된 기업들을 교집합하고 해당 기업들에 대한 긍부정 비율 시각화')\n",
    "plt.show()\n"
   ]
  },
  {
   "cell_type": "markdown",
   "metadata": {},
   "source": [
    "<font color='blue'>\n",
    "\n",
    "#### 3. 선별된 35개의 회사들 중에서 긍정비율이 0.7보다 높은 회사들을 최종선별하고 시각화\n",
    " - 12개의 회사가 최종 선별됨."
   ]
  },
  {
   "cell_type": "code",
   "execution_count": 47,
   "metadata": {
    "scrolled": true
   },
   "outputs": [],
   "source": [
    "top12_companies = crosstab_100th_5.sort_values('긍정', ascending=False).query('긍정 > 0.7').index.tolist()\n",
    "\n",
    "df_top12 = df.query('company_name in @top12_companies')"
   ]
  },
  {
   "cell_type": "code",
   "execution_count": 52,
   "metadata": {},
   "outputs": [
    {
     "data": {
      "image/png": "[encoded data removed]",
      "text/plain": [
       "<Figure size 720x360 with 3 Axes>"
      ]
     },
     "metadata": {
      "needs_background": "light"
     },
     "output_type": "display_data"
    }
   ],
   "source": [
    "fig, axes = plt.subplots(1, 3, figsize=(10,5))\n",
    "df_top12['recommend'].value_counts().plot(kind='pie',autopct='%.2f%%', explode=(0,0.03), legend=True, colors=['lightblue','lightcoral'], textprops={'fontsize': 13}, ax=axes[0])\n",
    "df_top12['sentiment_label'].value_counts().plot(kind='pie',autopct='%.2f%%', explode=(0,0.03), labels=['긍정', '부정'], legend=True, colors=['lightblue', 'lightcoral'], textprops={'fontsize': 13}, ax=axes[1])\n",
    "sns.barplot(data=df_top12.employee.value_counts().reset_index().rename(columns={'index':'workornot'}), y='employee', x='workornot', ax=axes[2])\n",
    "axes[0].set_title('회사에 대한 추천/비추천 비율')\n",
    "axes[1].set_title('회사에 대한 긍정/부정 비율')\n",
    "axes[2].set_title('리뷰 남긴 사람들중 현재 근무여부')\n",
    "plt.tight_layout()\n",
    "plt.show()\n"
   ]
  },
  {
   "cell_type": "code",
   "execution_count": 53,
   "metadata": {},
   "outputs": [
    {
     "data": {
      "image/png": "[encoded data removed]",
      "text/plain": [
       "<Figure size 720x360 with 1 Axes>"
      ]
     },
     "metadata": {
      "needs_background": "light"
     },
     "output_type": "display_data"
    }
   ],
   "source": [
    "crosstab_count = pd.crosstab(df_top12.company_name, df_top12.sentiment_label, margins=True).sort_values('All', ascending=False)[1:].reset_index()\n",
    "crosstab_ratio= pd.crosstab(df_top12.company_name, df_top12.sentiment_label, margins=True, normalize='index')[:-1].reset_index()\n",
    "crosstab_intersected = pd.merge(crosstab_count, crosstab_ratio, on='company_name').set_index('company_name').loc[:,['0_y','1_y']].rename(columns={'0_y':'부정', '1_y':'긍정'})\n",
    "crosstab_intersected\n",
    "\n",
    "fig, axes = plt.subplots(1, 1, figsize=(10, 5))\n",
    "crosstab_intersected.plot.bar(stacked=True, colormap='Greens', ax=axes)\n",
    "plt.axhline(y=0.5, color='r', linewidth=4)\n",
    "plt.title('최종선별된 기업에 대한 긍부정 비율 시각화')\n",
    "plt.show()\n"
   ]
  },
  {
   "cell_type": "markdown",
   "metadata": {},
   "source": [
    "### 최종선발된 기업들, 긍정비율순\n",
    " - **1. 구글코리아(유)**\n",
    " - **2. 네이버(주)**\n",
    " - **3. (주)연합뉴스**\n",
    " - **4. SK텔레콤(주)**\n",
    " - **5. (주)카카오**\n",
    " - **6. 라인플러스(주)**\n",
    " - **7. (주)넥슨코리아**\n",
    " - **8. 이베이코리아(주)**\n",
    " - **9. (주)엔씨소프트**\n",
    " - **10. 삼성에스디에스(주)**\n",
    " - **11. 엔테크서비스(주)**\n",
    " - **12. (주)비바리퍼블리카**"
   ]
  },
  {
   "cell_type": "markdown",
   "metadata": {},
   "source": [
    "# 프로젝트 결론"
   ]
  },
  {
   "cell_type": "markdown",
   "metadata": {},
   "source": [
    "- 텍스트 분석 결과 의도하였던 대로 `빅데이터`와 관련 있으면서\n",
    "  `실제 현장의 업무 분위기 또한 좋은` IT회사들을 선별해낼 수 있었다.  \n",
    "\n",
    "- 시각화, 장단점 단어구름, 감성분석을 하면서 IT부서의 분위기가 어떠한지 어떠한 장점,   \n",
    "  단점들이 있는지 그러한 요소들을 내가 판단하였을 때 아울러 잘 받아들이고 일할 수\n",
    "  있을지 생각하여 볼 수 있었다. 또 주제분석을 하여 빅데이터와 관련된 주제, 단어목록을 \n",
    "  추출하면서 단어목록에 나온 단어들이 전반적으로 장점 구름단어에 있는 단어들과\n",
    "  유사하여 다행이었다.  \n",
    "\n",
    "- 선별된 35개의 기업들 중에서 긍정비율이 0.7보다 높은 회사들을 최종 선별하여\n",
    "  총 12개의 기업들이 나왔다. 해당 기업들은 모두 한번씩 들어본 규모있는 회사들이었다.   \n",
    "  빅데이터를 다루고 부서의 환경 및 분위기가 좋은 곳은 역시 규모가 있는 회사들이니\n",
    "  선별된 결과가 납득이 갔다.  \n",
    "\n",
    "- 취업할 때 이번 프로젝트로 도출된 회사들을 살펴보고\n",
    "   나에게 맞을 것 같은 회사들에 지원하여 보도록 해야겠다. \n"
   ]
  },
  {
   "cell_type": "markdown",
   "metadata": {},
   "source": [
    "## Part9. 자기평가"
   ]
  },
  {
   "cell_type": "markdown",
   "metadata": {},
   "source": [
    " - 서론 : 2/2 \n",
    "   - 서론을 통해 다루고자 하는 주제, 현황, 문제점 등을 파악할 수 있음\n",
    "   \n",
    "   \n",
    " - 데이터수집 : 2/3\n",
    "   - lxml과 Selenium을 모두 사용(빠른 수집을 위해서 lxml이 가능한 부분에서는 lxml을 이용함, 나머지는 Selenium)\n",
    "   - 필요에 의해 자동로그인을 하도록함(Selenium의 send_keys, click() 활용\n",
    "   - 태그명이 동일한 것들에 대한 처리 방법으로 nth-of-type()을 이용함\n",
    "   - 데이터를 수집하며 전처리를 거침(split, replace)\n",
    "   - 에러에 대해서 조건문(if-else), 예외처리(try-except)를 적용함\n",
    "   \n",
    "   \n",
    " - 전처리 : 2/3\n",
    "   - 데이터를 수집하며 미리 일부 전처리를 해주었음\n",
    "   - 시각화와 감성분석에 활용할 변수 생성\n",
    "   - 불필요한 칼럼 제거와 NaN값 처리\n",
    "   \n",
    "   \n",
    " - 단어 빈도 : 3/3\n",
    "   - 파라미터별 비교분석 과정을 거치고 한 글자 단어를 제거하는 함수도 추가하여 목적에 잘 부합하도록 단어 빈도를 제시함.\n",
    "   - 단어구름을 주제에 걸맞게 사람 이미지를 이용하여 보여줌\n",
    "   - 잡플래닛에서 유료로 제공하는 단어구름의 기능을 추가적으로 구현함: 단어구름의 단어 클릭시 해당 단어와 관련된 리뷰를 랜덤으로 10개 보여주도록 하였다.\n",
    "   - 단어빈도를 통한 단어목록 중 긍정 단어목록을 이용하여 주제의 진행방향에 맞도록 데이터에서 해당 단어목록의 비율이 평균보다 높은 회사를 선별해냄\n",
    "   \n",
    "   \n",
    " - 감성 분석 :  3/3  -\n",
    "   - 파라미터별 비교 분석 과정을 거치고 주제와 잘 부합하는 감성 분석을 하였음\n",
    "   - 감성분석 결과 나온 토큰들중 긍정에 해당하는 토큰들을 이용하여 데이터에서 해당 긍정토큰들의 비율이 평균보다 높은 회사들을 선별해냄\n",
    "   \n",
    "   \n",
    " - 주제 분석 :  3/3\n",
    "   - LSA, NMF, LDA를 모두 적용하여 결과를 비교하고 결과가 가장 주제와 부합한 LSA를 선택하였음.\n",
    "   - 파라미터별 비교 분석 과정을 거치고 목적에 맞도록 빅데이터와 관련된 topic을 찾고 해당 topic과 가장 관계가 깊은 단어목록을 추출해냄.\n",
    "   - 추출해낸 단어목록을 이용하여 데이터에서 빅데이터가 있을 경우 가중치를 주고 해당 단어목록의 비율이 평균보다 높은 회사들을 선별해냄.\n",
    "   \n",
    "   \n",
    " - 결론 : 2/2\n",
    "   - 위 과정에서 추출한 데이터를 교집합하고 시각화하는 과정을 거침.\n",
    "   - 서론에서 의도한 바와 같이 주제와 목적에 부합하는 결론을 잘 제시하였음.\n",
    "   \n",
    "   \n",
    " - 추가적으로 한 부분\n",
    "   - 단어 빈도를 하기전에 주제와 부합하는 EDA를 실시하였다.  \n",
    "   - 단어구름을 위한 DTM에서 한글자 단어를 처리하는 함수를 만들어 추가 적용하였다.  \n",
    "   - 단어 클릭시 관련 리뷰들이 뜨는 잡 플래닛 단어구름의 기능을 단어 검색시 관련 리뷰들이 뜨도록 구현하였다.  \n",
    "   - 각 분석 파트별로 결과물인 단어들을 이용하여 목표에 부합하는 데이터를 추출하는 과정을 추가적으로 거쳤다.  \n",
    "   - 결론과정에서 목표를 위해서 최종 선별기업이 선정되는 과정을 시각화와 함께 거쳐서 보여주었다.\n",
    "\n",
    "합계 : 17/19"
   ]
  }
 ],
 "metadata": {
  "kernelspec": {
   "display_name": "Python 3",
   "language": "python",
   "name": "python3"
  },
  "language_info": {
   "codemirror_mode": {
    "name": "ipython",
    "version": 3
   },
   "file_extension": ".py",
   "mimetype": "text/x-python",
   "name": "python",
   "nbconvert_exporter": "python",
   "pygments_lexer": "ipython3",
   "version": "3.7.6"
  }
 },
 "nbformat": 4,
 "nbformat_minor": 4
}
